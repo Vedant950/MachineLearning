{
 "cells": [
  {
   "cell_type": "markdown",
   "metadata": {},
   "source": [
    "# Artificial Neural Network"
   ]
  },
  {
   "cell_type": "markdown",
   "metadata": {},
   "source": [
    "Dpending on various factors predict will the customer will leave the bank or stay with the bank using ANN"
   ]
  },
  {
   "cell_type": "markdown",
   "metadata": {},
   "source": [
    "### Importing Libraries"
   ]
  },
  {
   "cell_type": "code",
   "execution_count": 53,
   "metadata": {},
   "outputs": [],
   "source": [
    "import numpy as np\n",
    "import pandas as pd"
   ]
  },
  {
   "cell_type": "markdown",
   "metadata": {},
   "source": [
    "### Importing the dataset"
   ]
  },
  {
   "cell_type": "code",
   "execution_count": 54,
   "metadata": {},
   "outputs": [],
   "source": [
    "dataset = pd.read_csv('Churn_Modelling.csv')\n",
    "X = dataset.iloc[:, 3:-1].values\n",
    "Y = dataset.iloc[:, -1].values"
   ]
  },
  {
   "cell_type": "markdown",
   "metadata": {},
   "source": [
    "### Handling Categorical data"
   ]
  },
  {
   "cell_type": "code",
   "execution_count": 55,
   "metadata": {},
   "outputs": [],
   "source": [
    "from sklearn.preprocessing import LabelEncoder, OneHotEncoder\n",
    "from sklearn.compose import ColumnTransformer\n",
    "lex1 = LabelEncoder()\n",
    "X[:, 1] = lex1.fit_transform(X[:, 1])\n",
    "lex2 = LabelEncoder()\n",
    "X[:, 2] = lex2.fit_transform(X[:, 2])\n",
    "ohe = OneHotEncoder()\n",
    "ct = ColumnTransformer([('Geography', OneHotEncoder(), [1])], remainder = 'passthrough')\n",
    "X = ct.fit_transform(X)\n",
    "X = X[:, 1:]"
   ]
  },
  {
   "cell_type": "markdown",
   "metadata": {},
   "source": [
    "### Splitting the dataset"
   ]
  },
  {
   "cell_type": "code",
   "execution_count": 56,
   "metadata": {},
   "outputs": [],
   "source": [
    "from sklearn.model_selection import train_test_split\n",
    "X_train, X_test, Y_train, Y_test = train_test_split(X, Y, test_size = 0.2, random_state = 0)"
   ]
  },
  {
   "cell_type": "markdown",
   "metadata": {},
   "source": [
    "### Feature Scaling"
   ]
  },
  {
   "cell_type": "code",
   "execution_count": 57,
   "metadata": {},
   "outputs": [],
   "source": [
    "from sklearn.preprocessing import StandardScaler\n",
    "sc_X = StandardScaler()\n",
    "X_train = sc_X.fit_transform(X_train)\n",
    "X_test = sc_X.fit_transform(X_test)"
   ]
  },
  {
   "cell_type": "markdown",
   "metadata": {},
   "source": [
    "### Importing the Keras Libraries and Packages"
   ]
  },
  {
   "cell_type": "code",
   "execution_count": 58,
   "metadata": {},
   "outputs": [],
   "source": [
    "import keras\n",
    "from keras.models import Sequential\n",
    "from keras.layers import Dense"
   ]
  },
  {
   "cell_type": "markdown",
   "metadata": {},
   "source": [
    "### Initializing the ANN"
   ]
  },
  {
   "cell_type": "code",
   "execution_count": 59,
   "metadata": {},
   "outputs": [],
   "source": [
    "classifier = Sequential()"
   ]
  },
  {
   "cell_type": "markdown",
   "metadata": {},
   "source": [
    "### Adding the input layer and the first hidden layer"
   ]
  },
  {
   "cell_type": "code",
   "execution_count": 66,
   "metadata": {},
   "outputs": [],
   "source": [
    "classifier.add(Dense(6, kernel_initializer = 'uniform', activation = 'relu', input_dim = 11))"
   ]
  },
  {
   "cell_type": "markdown",
   "metadata": {},
   "source": [
    "### Adding the Second layer"
   ]
  },
  {
   "cell_type": "code",
   "execution_count": 67,
   "metadata": {},
   "outputs": [],
   "source": [
    "classifier.add(Dense(6, kernel_initializer = 'uniform', activation = 'relu'))"
   ]
  },
  {
   "cell_type": "markdown",
   "metadata": {},
   "source": [
    "### Adding the Output layer"
   ]
  },
  {
   "cell_type": "code",
   "execution_count": 68,
   "metadata": {},
   "outputs": [],
   "source": [
    "classifier.add(Dense(1, kernel_initializer = 'uniform', activation = 'sigmoid'))"
   ]
  },
  {
   "cell_type": "markdown",
   "metadata": {},
   "source": [
    "### Compiling the ANN"
   ]
  },
  {
   "cell_type": "code",
   "execution_count": 72,
   "metadata": {},
   "outputs": [],
   "source": [
    "classifier.compile(optimizer = 'adam', loss = 'binary_crossentropy', metrics = ['accuracy'])"
   ]
  },
  {
   "cell_type": "markdown",
   "metadata": {},
   "source": [
    "### Fitting the ANN model"
   ]
  },
  {
   "cell_type": "code",
   "execution_count": 73,
   "metadata": {},
   "outputs": [
    {
     "name": "stdout",
     "output_type": "stream",
     "text": [
      "Epoch 1/100\n",
      "800/800 [==============================] - 3s 2ms/step - loss: 0.5581 - accuracy: 0.7984\n",
      "Epoch 2/100\n",
      "800/800 [==============================] - 3s 4ms/step - loss: 0.4148 - accuracy: 0.7980\n",
      "Epoch 3/100\n",
      "800/800 [==============================] - 3s 4ms/step - loss: 0.3997 - accuracy: 0.7976\n",
      "Epoch 4/100\n",
      "800/800 [==============================] - 3s 4ms/step - loss: 0.3790 - accuracy: 0.8439\n",
      "Epoch 5/100\n",
      "800/800 [==============================] - 3s 3ms/step - loss: 0.3820 - accuracy: 0.8471\n",
      "Epoch 6/100\n",
      "800/800 [==============================] - 3s 4ms/step - loss: 0.3700 - accuracy: 0.8588\n",
      "Epoch 7/100\n",
      "800/800 [==============================] - 3s 4ms/step - loss: 0.3628 - accuracy: 0.8608\n",
      "Epoch 8/100\n",
      "800/800 [==============================] - 3s 4ms/step - loss: 0.3612 - accuracy: 0.8554\n",
      "Epoch 9/100\n",
      "800/800 [==============================] - 3s 3ms/step - loss: 0.3668 - accuracy: 0.8579\n",
      "Epoch 10/100\n",
      "800/800 [==============================] - 3s 4ms/step - loss: 0.3408 - accuracy: 0.8663\n",
      "Epoch 11/100\n",
      "800/800 [==============================] - 3s 4ms/step - loss: 0.3604 - accuracy: 0.8617\n",
      "Epoch 12/100\n",
      "800/800 [==============================] - 3s 4ms/step - loss: 0.3665 - accuracy: 0.8559\n",
      "Epoch 13/100\n",
      "800/800 [==============================] - 3s 4ms/step - loss: 0.3420 - accuracy: 0.8603\n",
      "Epoch 14/100\n",
      "800/800 [==============================] - 3s 4ms/step - loss: 0.3516 - accuracy: 0.8626\n",
      "Epoch 15/100\n",
      "800/800 [==============================] - 3s 4ms/step - loss: 0.3372 - accuracy: 0.8683\n",
      "Epoch 16/100\n",
      "800/800 [==============================] - 3s 3ms/step - loss: 0.3529 - accuracy: 0.8556\n",
      "Epoch 17/100\n",
      "800/800 [==============================] - 3s 4ms/step - loss: 0.3521 - accuracy: 0.8598\n",
      "Epoch 18/100\n",
      "800/800 [==============================] - 3s 4ms/step - loss: 0.3558 - accuracy: 0.8545\n",
      "Epoch 19/100\n",
      "800/800 [==============================] - 3s 4ms/step - loss: 0.3467 - accuracy: 0.8610\n",
      "Epoch 20/100\n",
      "800/800 [==============================] - 3s 4ms/step - loss: 0.3463 - accuracy: 0.8624\n",
      "Epoch 21/100\n",
      "800/800 [==============================] - 3s 4ms/step - loss: 0.3553 - accuracy: 0.8529\n",
      "Epoch 22/100\n",
      "800/800 [==============================] - 3s 4ms/step - loss: 0.3589 - accuracy: 0.8541\n",
      "Epoch 23/100\n",
      "800/800 [==============================] - 3s 4ms/step - loss: 0.3554 - accuracy: 0.8572\n",
      "Epoch 24/100\n",
      "800/800 [==============================] - 3s 4ms/step - loss: 0.3521 - accuracy: 0.8550\n",
      "Epoch 25/100\n",
      "800/800 [==============================] - 3s 4ms/step - loss: 0.3336 - accuracy: 0.8661\n",
      "Epoch 26/100\n",
      "800/800 [==============================] - 3s 4ms/step - loss: 0.3421 - accuracy: 0.8623\n",
      "Epoch 27/100\n",
      "800/800 [==============================] - 3s 4ms/step - loss: 0.3508 - accuracy: 0.8612\n",
      "Epoch 28/100\n",
      "800/800 [==============================] - 3s 4ms/step - loss: 0.3391 - accuracy: 0.8642\n",
      "Epoch 29/100\n",
      "800/800 [==============================] - 3s 4ms/step - loss: 0.3499 - accuracy: 0.8585\n",
      "Epoch 30/100\n",
      "800/800 [==============================] - 2s 3ms/step - loss: 0.3478 - accuracy: 0.8616\n",
      "Epoch 31/100\n",
      "800/800 [==============================] - 3s 3ms/step - loss: 0.3414 - accuracy: 0.8652\n",
      "Epoch 32/100\n",
      "800/800 [==============================] - 3s 3ms/step - loss: 0.3441 - accuracy: 0.8640\n",
      "Epoch 33/100\n",
      "800/800 [==============================] - 3s 4ms/step - loss: 0.3346 - accuracy: 0.8652\n",
      "Epoch 34/100\n",
      "800/800 [==============================] - 3s 4ms/step - loss: 0.3385 - accuracy: 0.8607\n",
      "Epoch 35/100\n",
      "800/800 [==============================] - ETA: 0s - loss: 0.3361 - accuracy: 0.86 - 3s 3ms/step - loss: 0.3361 - accuracy: 0.8629\n",
      "Epoch 36/100\n",
      "800/800 [==============================] - 3s 4ms/step - loss: 0.3415 - accuracy: 0.8638\n",
      "Epoch 37/100\n",
      "800/800 [==============================] - 3s 3ms/step - loss: 0.3447 - accuracy: 0.8648\n",
      "Epoch 38/100\n",
      "800/800 [==============================] - 3s 4ms/step - loss: 0.3533 - accuracy: 0.8577\n",
      "Epoch 39/100\n",
      "800/800 [==============================] - 3s 3ms/step - loss: 0.3524 - accuracy: 0.8592\n",
      "Epoch 40/100\n",
      "800/800 [==============================] - 2s 3ms/step - loss: 0.3498 - accuracy: 0.8592\n",
      "Epoch 41/100\n",
      "800/800 [==============================] - 3s 3ms/step - loss: 0.3552 - accuracy: 0.8573\n",
      "Epoch 42/100\n",
      "800/800 [==============================] - 3s 3ms/step - loss: 0.3392 - accuracy: 0.8642\n",
      "Epoch 43/100\n",
      "800/800 [==============================] - 3s 3ms/step - loss: 0.3530 - accuracy: 0.8589\n",
      "Epoch 44/100\n",
      "800/800 [==============================] - 3s 3ms/step - loss: 0.3389 - accuracy: 0.8663\n",
      "Epoch 45/100\n",
      "800/800 [==============================] - 2s 2ms/step - loss: 0.3459 - accuracy: 0.8617\n",
      "Epoch 46/100\n",
      "800/800 [==============================] - 2s 3ms/step - loss: 0.3329 - accuracy: 0.8636\n",
      "Epoch 47/100\n",
      "800/800 [==============================] - 2s 3ms/step - loss: 0.3479 - accuracy: 0.8593\n",
      "Epoch 48/100\n",
      "800/800 [==============================] - 2s 3ms/step - loss: 0.3408 - accuracy: 0.8624\n",
      "Epoch 49/100\n",
      "800/800 [==============================] - ETA: 0s - loss: 0.3476 - accuracy: 0.85 - 2s 3ms/step - loss: 0.3475 - accuracy: 0.8576\n",
      "Epoch 50/100\n",
      "800/800 [==============================] - 2s 3ms/step - loss: 0.3511 - accuracy: 0.8576\n",
      "Epoch 51/100\n",
      "800/800 [==============================] - 3s 3ms/step - loss: 0.3487 - accuracy: 0.8565\n",
      "Epoch 52/100\n",
      "800/800 [==============================] - 2s 2ms/step - loss: 0.3445 - accuracy: 0.8597\n",
      "Epoch 53/100\n",
      "800/800 [==============================] - 2s 3ms/step - loss: 0.3280 - accuracy: 0.8678\n",
      "Epoch 54/100\n",
      "800/800 [==============================] - 3s 3ms/step - loss: 0.3372 - accuracy: 0.8637\n",
      "Epoch 55/100\n",
      "800/800 [==============================] - 2s 3ms/step - loss: 0.3401 - accuracy: 0.8612\n",
      "Epoch 56/100\n",
      "800/800 [==============================] - 3s 3ms/step - loss: 0.3505 - accuracy: 0.8569\n",
      "Epoch 57/100\n",
      "800/800 [==============================] - 3s 4ms/step - loss: 0.3373 - accuracy: 0.8649\n",
      "Epoch 58/100\n",
      "800/800 [==============================] - 3s 4ms/step - loss: 0.3492 - accuracy: 0.8552\n",
      "Epoch 59/100\n",
      "800/800 [==============================] - 3s 4ms/step - loss: 0.3338 - accuracy: 0.8639\n",
      "Epoch 60/100\n",
      "800/800 [==============================] - 3s 3ms/step - loss: 0.3423 - accuracy: 0.8627\n",
      "Epoch 61/100\n",
      "800/800 [==============================] - 3s 4ms/step - loss: 0.3429 - accuracy: 0.8619\n",
      "Epoch 62/100\n",
      "800/800 [==============================] - 3s 3ms/step - loss: 0.3445 - accuracy: 0.8600\n",
      "Epoch 63/100\n",
      "800/800 [==============================] - 3s 4ms/step - loss: 0.3382 - accuracy: 0.8658\n",
      "Epoch 64/100\n",
      "800/800 [==============================] - 3s 4ms/step - loss: 0.3419 - accuracy: 0.8635\n",
      "Epoch 65/100\n",
      "800/800 [==============================] - 3s 4ms/step - loss: 0.3428 - accuracy: 0.8578\n",
      "Epoch 66/100\n",
      "800/800 [==============================] - 2s 3ms/step - loss: 0.3519 - accuracy: 0.8609\n",
      "Epoch 67/100\n",
      "800/800 [==============================] - 3s 3ms/step - loss: 0.3398 - accuracy: 0.8618\n",
      "Epoch 68/100\n",
      "800/800 [==============================] - 3s 4ms/step - loss: 0.3409 - accuracy: 0.8629\n",
      "Epoch 69/100\n",
      "800/800 [==============================] - 3s 4ms/step - loss: 0.3395 - accuracy: 0.8605\n",
      "Epoch 70/100\n",
      "800/800 [==============================] - 3s 4ms/step - loss: 0.3424 - accuracy: 0.8618\n",
      "Epoch 71/100\n",
      "800/800 [==============================] - 3s 4ms/step - loss: 0.3459 - accuracy: 0.8630\n",
      "Epoch 72/100\n",
      "800/800 [==============================] - 3s 4ms/step - loss: 0.3338 - accuracy: 0.8685\n",
      "Epoch 73/100\n",
      "800/800 [==============================] - 3s 4ms/step - loss: 0.3474 - accuracy: 0.8583\n",
      "Epoch 74/100\n",
      "800/800 [==============================] - 3s 3ms/step - loss: 0.3402 - accuracy: 0.8633\n",
      "Epoch 75/100\n",
      "800/800 [==============================] - 3s 4ms/step - loss: 0.3507 - accuracy: 0.8607\n",
      "Epoch 76/100\n",
      "800/800 [==============================] - 3s 3ms/step - loss: 0.3433 - accuracy: 0.8633\n",
      "Epoch 77/100\n",
      "800/800 [==============================] - 3s 4ms/step - loss: 0.3412 - accuracy: 0.8593\n",
      "Epoch 78/100\n",
      "800/800 [==============================] - 3s 4ms/step - loss: 0.3436 - accuracy: 0.8596\n",
      "Epoch 79/100\n",
      "800/800 [==============================] - 3s 3ms/step - loss: 0.3601 - accuracy: 0.8517\n",
      "Epoch 80/100\n"
     ]
    },
    {
     "name": "stdout",
     "output_type": "stream",
     "text": [
      "800/800 [==============================] - 3s 4ms/step - loss: 0.3436 - accuracy: 0.8634\n",
      "Epoch 81/100\n",
      "800/800 [==============================] - 3s 4ms/step - loss: 0.3520 - accuracy: 0.8573\n",
      "Epoch 82/100\n",
      "800/800 [==============================] - 3s 3ms/step - loss: 0.3430 - accuracy: 0.8645\n",
      "Epoch 83/100\n",
      "800/800 [==============================] - 3s 3ms/step - loss: 0.3334 - accuracy: 0.8684\n",
      "Epoch 84/100\n",
      "800/800 [==============================] - 3s 4ms/step - loss: 0.3378 - accuracy: 0.8632\n",
      "Epoch 85/100\n",
      "800/800 [==============================] - 3s 4ms/step - loss: 0.3468 - accuracy: 0.8617\n",
      "Epoch 86/100\n",
      "800/800 [==============================] - 3s 4ms/step - loss: 0.3517 - accuracy: 0.8537\n",
      "Epoch 87/100\n",
      "800/800 [==============================] - 3s 4ms/step - loss: 0.3337 - accuracy: 0.8647\n",
      "Epoch 88/100\n",
      "800/800 [==============================] - 3s 4ms/step - loss: 0.3453 - accuracy: 0.8567\n",
      "Epoch 89/100\n",
      "800/800 [==============================] - 3s 4ms/step - loss: 0.3294 - accuracy: 0.8667\n",
      "Epoch 90/100\n",
      "800/800 [==============================] - 3s 4ms/step - loss: 0.3378 - accuracy: 0.8655\n",
      "Epoch 91/100\n",
      "800/800 [==============================] - 3s 4ms/step - loss: 0.3440 - accuracy: 0.8580\n",
      "Epoch 92/100\n",
      "800/800 [==============================] - 3s 4ms/step - loss: 0.3365 - accuracy: 0.8596\n",
      "Epoch 93/100\n",
      "800/800 [==============================] - 3s 3ms/step - loss: 0.3417 - accuracy: 0.8580\n",
      "Epoch 94/100\n",
      "800/800 [==============================] - 3s 4ms/step - loss: 0.3475 - accuracy: 0.8619\n",
      "Epoch 95/100\n",
      "800/800 [==============================] - 3s 4ms/step - loss: 0.3415 - accuracy: 0.8609\n",
      "Epoch 96/100\n",
      "800/800 [==============================] - 3s 4ms/step - loss: 0.3363 - accuracy: 0.8626\n",
      "Epoch 97/100\n",
      "800/800 [==============================] - 3s 3ms/step - loss: 0.3394 - accuracy: 0.8618\n",
      "Epoch 98/100\n",
      "800/800 [==============================] - 2s 3ms/step - loss: 0.3349 - accuracy: 0.8643\n",
      "Epoch 99/100\n",
      "800/800 [==============================] - 3s 4ms/step - loss: 0.3331 - accuracy: 0.8603\n",
      "Epoch 100/100\n",
      "800/800 [==============================] - 3s 4ms/step - loss: 0.3535 - accuracy: 0.8497\n"
     ]
    },
    {
     "data": {
      "text/plain": [
       "<tensorflow.python.keras.callbacks.History at 0x219dac1b550>"
      ]
     },
     "execution_count": 73,
     "metadata": {},
     "output_type": "execute_result"
    }
   ],
   "source": [
    "classifier.fit(X_train, Y_train, batch_size = 10, epochs = 100)"
   ]
  },
  {
   "cell_type": "markdown",
   "metadata": {},
   "source": [
    "### Predicting the test set results"
   ]
  },
  {
   "cell_type": "code",
   "execution_count": 74,
   "metadata": {},
   "outputs": [],
   "source": [
    "Y_pred = (classifier.predict(X_test)>0.5)"
   ]
  },
  {
   "cell_type": "markdown",
   "metadata": {},
   "source": [
    "### Creating the confusion matrix"
   ]
  },
  {
   "cell_type": "code",
   "execution_count": 83,
   "metadata": {},
   "outputs": [
    {
     "name": "stdout",
     "output_type": "stream",
     "text": [
      "[[1556   39]\n",
      " [ 219  186]]\n",
      "0.871\n"
     ]
    }
   ],
   "source": [
    "from sklearn.metrics import confusion_matrix, accuracy_score\n",
    "cm = confusion_matrix(Y_test, Y_pred)\n",
    "ac = accuracy_score(Y_test, Y_pred)\n",
    "print(cm)\n",
    "print(ac)"
   ]
  },
  {
   "cell_type": "code",
   "execution_count": null,
   "metadata": {},
   "outputs": [],
   "source": []
  }
 ],
 "metadata": {
  "kernelspec": {
   "display_name": "Python 3",
   "language": "python",
   "name": "python3"
  },
  "language_info": {
   "codemirror_mode": {
    "name": "ipython",
    "version": 3
   },
   "file_extension": ".py",
   "mimetype": "text/x-python",
   "name": "python",
   "nbconvert_exporter": "python",
   "pygments_lexer": "ipython3",
   "version": "3.8.3"
  }
 },
 "nbformat": 4,
 "nbformat_minor": 4
}
