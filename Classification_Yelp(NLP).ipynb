{
  "nbformat": 4,
  "nbformat_minor": 0,
  "metadata": {
    "colab": {
      "name": "Classification_Yelp(NLP)",
      "provenance": [],
      "authorship_tag": "ABX9TyNd8EIrVeTBnlufdY0Zv4+2",
      "include_colab_link": true
    },
    "kernelspec": {
      "name": "python3",
      "display_name": "Python 3"
    }
  },
  "cells": [
    {
      "cell_type": "markdown",
      "metadata": {
        "id": "view-in-github",
        "colab_type": "text"
      },
      "source": [
        "<a href=\"https://colab.research.google.com/github/Vedant950/MachineLearning/blob/main/Classification_Yelp(NLP).ipynb\" target=\"_parent\"><img src=\"https://colab.research.google.com/assets/colab-badge.svg\" alt=\"Open In Colab\"/></a>"
      ]
    },
    {
      "cell_type": "code",
      "metadata": {
        "id": "x_vyfD4lgP2X"
      },
      "source": [
        "import numpy as np\r\n",
        "import pandas as pd\r\n",
        "import matplotlib.pyplot as plt\r\n",
        "from sklearn.metrics import confusion_matrix, accuracy_score, classification_report"
      ],
      "execution_count": 18,
      "outputs": []
    },
    {
      "cell_type": "code",
      "metadata": {
        "id": "qcUb6bLsglBp"
      },
      "source": [
        "dataset = pd.read_csv('/content/yelp.csv')\r\n",
        "X = dataset.iloc[:, 4].values\r\n",
        "Y = dataset.iloc[:, 3].values"
      ],
      "execution_count": 6,
      "outputs": []
    },
    {
      "cell_type": "code",
      "metadata": {
        "colab": {
          "base_uri": "https://localhost:8080/"
        },
        "id": "j-Gg5LnShDEL",
        "outputId": "781d2b80-907b-4d47-cde6-8addf2bb5427"
      },
      "source": [
        "import re\r\n",
        "import nltk\r\n",
        "nltk.download('stopwords')\r\n",
        "from nltk.corpus import stopwords\r\n",
        "from nltk.stem import PorterStemmer\r\n",
        "corpus = []\r\n",
        "ps = PorterStemmer()\r\n",
        "for i in range(0, 10000):\r\n",
        "    review = re.sub('[^a-zA-Z]', ' ', X[i])\r\n",
        "    review = review.lower()\r\n",
        "    review = review.split()\r\n",
        "    review = [ps.stem(word) for word in review if not word in set(stopwords.words('english'))]\r\n",
        "    review = ' '.join(review)\r\n",
        "    corpus.append(review)"
      ],
      "execution_count": 8,
      "outputs": [
        {
          "output_type": "stream",
          "text": [
            "[nltk_data] Downloading package stopwords to /root/nltk_data...\n",
            "[nltk_data]   Unzipping corpora/stopwords.zip.\n"
          ],
          "name": "stdout"
        }
      ]
    },
    {
      "cell_type": "code",
      "metadata": {
        "id": "mu4994ShhIO7"
      },
      "source": [
        "from sklearn.feature_extraction.text import CountVectorizer\r\n",
        "cv = CountVectorizer()\r\n",
        "X = cv.fit_transform(corpus).toarray()"
      ],
      "execution_count": 9,
      "outputs": []
    },
    {
      "cell_type": "code",
      "metadata": {
        "id": "iyZvTKO5hKx1"
      },
      "source": [
        "from sklearn.model_selection import train_test_split\r\n",
        "X_train, X_test, Y_train, Y_test = train_test_split(X, Y, test_size = 0.20, random_state = 0)"
      ],
      "execution_count": 10,
      "outputs": []
    },
    {
      "cell_type": "code",
      "metadata": {
        "colab": {
          "base_uri": "https://localhost:8080/"
        },
        "id": "qwP6CxiZhO_3",
        "outputId": "4a3337e3-6f92-4de3-989c-af11fc33bff8"
      },
      "source": [
        "from sklearn.linear_model import LogisticRegression\r\n",
        "classifier1 = LogisticRegression()\r\n",
        "classifier1.fit(X_train, Y_train)\r\n",
        "\r\n",
        "Y_pred1 = classifier1.predict(X_test)\r\n",
        "\r\n",
        "print(confusion_matrix(Y_test, Y_pred1))\r\n",
        "print(accuracy_score(Y_test, Y_pred1)*100)"
      ],
      "execution_count": 11,
      "outputs": [
        {
          "output_type": "stream",
          "text": [
            "[[ 72  39  18  11  10]\n",
            " [ 27  50  58  36   7]\n",
            " [ 14  29  94 112  35]\n",
            " [ 12  17  85 347 235]\n",
            " [  6   7  38 222 419]]\n",
            "49.1\n"
          ],
          "name": "stdout"
        },
        {
          "output_type": "stream",
          "text": [
            "/usr/local/lib/python3.6/dist-packages/sklearn/linear_model/_logistic.py:940: ConvergenceWarning: lbfgs failed to converge (status=1):\n",
            "STOP: TOTAL NO. of ITERATIONS REACHED LIMIT.\n",
            "\n",
            "Increase the number of iterations (max_iter) or scale the data as shown in:\n",
            "    https://scikit-learn.org/stable/modules/preprocessing.html\n",
            "Please also refer to the documentation for alternative solver options:\n",
            "    https://scikit-learn.org/stable/modules/linear_model.html#logistic-regression\n",
            "  extra_warning_msg=_LOGISTIC_SOLVER_CONVERGENCE_MSG)\n"
          ],
          "name": "stderr"
        }
      ]
    },
    {
      "cell_type": "code",
      "metadata": {
        "colab": {
          "base_uri": "https://localhost:8080/"
        },
        "id": "08JAfjB-hP7b",
        "outputId": "ab736a9a-266e-4863-8e76-fad03cfdc8d7"
      },
      "source": [
        "from sklearn.neighbors import KNeighborsClassifier\r\n",
        "classifier2 = KNeighborsClassifier(n_neighbors = 10)\r\n",
        "classifier2.fit(X_train, Y_train)\r\n",
        "\r\n",
        "Y_pred2 = classifier2.predict(X_test)\r\n",
        "\r\n",
        "print(confusion_matrix(Y_test, Y_pred2))\r\n",
        "print(accuracy_score(Y_test, Y_pred2)*100)"
      ],
      "execution_count": 12,
      "outputs": [
        {
          "output_type": "stream",
          "text": [
            "[[ 23   7   9  39  72]\n",
            " [  7   8   8  65  90]\n",
            " [  3   3   9 121 148]\n",
            " [ 11   5  15 276 389]\n",
            " [  8   2  12 222 448]]\n",
            "38.2\n"
          ],
          "name": "stdout"
        }
      ]
    },
    {
      "cell_type": "code",
      "metadata": {
        "colab": {
          "base_uri": "https://localhost:8080/"
        },
        "id": "t5P6f0wijyTg",
        "outputId": "71c9ae19-8fe2-4b05-9f1f-1b3af4e8e8c8"
      },
      "source": [
        "from sklearn.svm import SVC\r\n",
        "classifier3 = SVC(kernel = 'rbf')\r\n",
        "classifier3.fit(X_train, Y_train)\r\n",
        "\r\n",
        "Y_pred3 = classifier3.predict(X_test)\r\n",
        "\r\n",
        "print(confusion_matrix(Y_test, Y_pred3))\r\n",
        "print(accuracy_score(Y_test, Y_pred3)*100)"
      ],
      "execution_count": 13,
      "outputs": [
        {
          "output_type": "stream",
          "text": [
            "[[ 36  13   7  63  31]\n",
            " [ 14  19  20 107  18]\n",
            " [  1   6  30 201  46]\n",
            " [  3   1  13 458 221]\n",
            " [  1   0   4 241 446]]\n",
            "49.45\n"
          ],
          "name": "stdout"
        }
      ]
    },
    {
      "cell_type": "code",
      "metadata": {
        "colab": {
          "base_uri": "https://localhost:8080/"
        },
        "id": "hOKM2AJUtXka",
        "outputId": "31057bd2-e876-4ae1-d24b-7787088b6f92"
      },
      "source": [
        "from sklearn.naive_bayes import MultinomialNB\r\n",
        "classifier4 = MultinomialNB()\r\n",
        "classifier4.fit(X_train, Y_train)\r\n",
        "\r\n",
        "Y_pred4 = classifier4.predict(X_test)\r\n",
        "\r\n",
        "print(confusion_matrix(Y_test, Y_pred4))\r\n",
        "print(accuracy_score(Y_test, Y_pred4)*100)\r\n"
      ],
      "execution_count": 17,
      "outputs": [
        {
          "output_type": "stream",
          "text": [
            "[[ 61  29  20  27  13]\n",
            " [ 12  24  44  80  18]\n",
            " [  6  10  48 186  34]\n",
            " [  3   6  29 486 172]\n",
            " [  7   2  10 297 376]]\n",
            "49.75\n"
          ],
          "name": "stdout"
        }
      ]
    },
    {
      "cell_type": "code",
      "metadata": {
        "colab": {
          "base_uri": "https://localhost:8080/"
        },
        "id": "bl7IphlyNXuC",
        "outputId": "0849e3a8-b096-495a-872c-709f006b33d6"
      },
      "source": [
        "print(classification_report(Y_test, Y_pred4))"
      ],
      "execution_count": 19,
      "outputs": [
        {
          "output_type": "stream",
          "text": [
            "              precision    recall  f1-score   support\n",
            "\n",
            "           1       0.69      0.41      0.51       150\n",
            "           2       0.34      0.13      0.19       178\n",
            "           3       0.32      0.17      0.22       284\n",
            "           4       0.45      0.70      0.55       696\n",
            "           5       0.61      0.54      0.58       692\n",
            "\n",
            "    accuracy                           0.50      2000\n",
            "   macro avg       0.48      0.39      0.41      2000\n",
            "weighted avg       0.50      0.50      0.48      2000\n",
            "\n"
          ],
          "name": "stdout"
        }
      ]
    },
    {
      "cell_type": "code",
      "metadata": {
        "colab": {
          "base_uri": "https://localhost:8080/"
        },
        "id": "LD7vWX-rtaa1",
        "outputId": "8f08a0bb-990d-4661-8bd5-905a419777f5"
      },
      "source": [
        "from sklearn.tree import DecisionTreeClassifier\r\n",
        "classifier5 = DecisionTreeClassifier(criterion = 'entropy')\r\n",
        "classifier5.fit(X_train, Y_train)\r\n",
        "\r\n",
        "Y_pred5 = classifier5.predict(X_test)\r\n",
        "\r\n",
        "print(confusion_matrix(Y_test, Y_pred4))\r\n",
        "print(accuracy_score(Y_test, Y_pred4)*100)"
      ],
      "execution_count": 15,
      "outputs": [
        {
          "output_type": "stream",
          "text": [
            "[[ 39  23  16  38  34]\n",
            " [ 34  28  27  47  42]\n",
            " [ 57  38  54  62  73]\n",
            " [110  82 126 158 220]\n",
            " [115  87 109 150 231]]\n",
            "25.5\n"
          ],
          "name": "stdout"
        }
      ]
    },
    {
      "cell_type": "code",
      "metadata": {
        "colab": {
          "base_uri": "https://localhost:8080/"
        },
        "id": "LEfuEpH7tee9",
        "outputId": "b33aa7b8-730c-4426-a59c-625cd9ae95f0"
      },
      "source": [
        "from sklearn.ensemble import RandomForestClassifier\r\n",
        "classifier6 = RandomForestClassifier(criterion = 'entropy', n_estimators = 100)\r\n",
        "classifier6.fit(X_train, Y_train)\r\n",
        "\r\n",
        "Y_pred6 = classifier6.predict(X_test)\r\n",
        "\r\n",
        "print(confusion_matrix(Y_test, Y_pred6))\r\n",
        "print(accuracy_score(Y_test, Y_pred6)*100)"
      ],
      "execution_count": 16,
      "outputs": [
        {
          "output_type": "stream",
          "text": [
            "[[ 31   9   8  56  46]\n",
            " [  6   5  11 118  38]\n",
            " [  4   1   4 216  59]\n",
            " [  5   0   8 468 215]\n",
            " [  6   0   0 278 408]]\n",
            "45.800000000000004\n"
          ],
          "name": "stdout"
        }
      ]
    }
  ]
}